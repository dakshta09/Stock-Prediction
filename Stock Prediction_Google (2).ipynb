{
 "cells": [
  {
   "cell_type": "markdown",
   "id": "4cd17a14",
   "metadata": {},
   "source": [
    "# Importing Lib."
   ]
  },
  {
   "cell_type": "code",
   "execution_count": 3,
   "id": "a668893c",
   "metadata": {},
   "outputs": [],
   "source": [
    "import os\n",
    "import numpy as np\n",
    "import pandas as pd\n",
    "import seaborn as sns\n",
    "import matplotlib.pyplot as plt\n",
    "%matplotlib inline"
   ]
  },
  {
   "cell_type": "code",
   "execution_count": 4,
   "id": "a8f1e332-d314-4c4e-a032-46ac62d49e6b",
   "metadata": {
    "scrolled": true
   },
   "outputs": [],
   "source": [
    "# pip install tensorflow"
   ]
  },
  {
   "cell_type": "code",
   "execution_count": 5,
   "id": "a090ebb2-d159-4f77-aab8-5a2df02b321d",
   "metadata": {},
   "outputs": [
    {
     "name": "stdout",
     "output_type": "stream",
     "text": [
      "WARNING:tensorflow:From C:\\Users\\HP NOTES\\anaconda3\\Lib\\site-packages\\keras\\src\\losses.py:2976: The name tf.losses.sparse_softmax_cross_entropy is deprecated. Please use tf.compat.v1.losses.sparse_softmax_cross_entropy instead.\n",
      "\n"
     ]
    }
   ],
   "source": [
    "import tensorflow"
   ]
  },
  {
   "cell_type": "code",
   "execution_count": 6,
   "id": "30ef09a0-eac5-4954-ad53-4562a55f0cd5",
   "metadata": {},
   "outputs": [],
   "source": [
    "import keras"
   ]
  },
  {
   "cell_type": "markdown",
   "id": "2608c83f",
   "metadata": {},
   "source": [
    "# Data Importing from CSV"
   ]
  },
  {
   "cell_type": "code",
   "execution_count": 7,
   "id": "fb1e0628",
   "metadata": {},
   "outputs": [
    {
     "data": {
      "text/html": [
       "<div>\n",
       "<style scoped>\n",
       "    .dataframe tbody tr th:only-of-type {\n",
       "        vertical-align: middle;\n",
       "    }\n",
       "\n",
       "    .dataframe tbody tr th {\n",
       "        vertical-align: top;\n",
       "    }\n",
       "\n",
       "    .dataframe thead th {\n",
       "        text-align: right;\n",
       "    }\n",
       "</style>\n",
       "<table border=\"1\" class=\"dataframe\">\n",
       "  <thead>\n",
       "    <tr style=\"text-align: right;\">\n",
       "      <th></th>\n",
       "      <th>Date</th>\n",
       "      <th>Open</th>\n",
       "      <th>High</th>\n",
       "      <th>Low</th>\n",
       "      <th>Close</th>\n",
       "      <th>Adj Close</th>\n",
       "      <th>Volume</th>\n",
       "    </tr>\n",
       "  </thead>\n",
       "  <tbody>\n",
       "    <tr>\n",
       "      <th>0</th>\n",
       "      <td>2022-12-05</td>\n",
       "      <td>99.815002</td>\n",
       "      <td>101.750000</td>\n",
       "      <td>99.355003</td>\n",
       "      <td>99.870003</td>\n",
       "      <td>99.870003</td>\n",
       "      <td>19955500</td>\n",
       "    </tr>\n",
       "    <tr>\n",
       "      <th>1</th>\n",
       "      <td>2022-12-06</td>\n",
       "      <td>99.669998</td>\n",
       "      <td>100.209999</td>\n",
       "      <td>96.760002</td>\n",
       "      <td>97.309998</td>\n",
       "      <td>97.309998</td>\n",
       "      <td>20877600</td>\n",
       "    </tr>\n",
       "    <tr>\n",
       "      <th>2</th>\n",
       "      <td>2022-12-07</td>\n",
       "      <td>96.769997</td>\n",
       "      <td>97.309998</td>\n",
       "      <td>95.025002</td>\n",
       "      <td>95.150002</td>\n",
       "      <td>95.150002</td>\n",
       "      <td>26647900</td>\n",
       "    </tr>\n",
       "    <tr>\n",
       "      <th>3</th>\n",
       "      <td>2022-12-08</td>\n",
       "      <td>95.690002</td>\n",
       "      <td>95.870003</td>\n",
       "      <td>93.800003</td>\n",
       "      <td>93.949997</td>\n",
       "      <td>93.949997</td>\n",
       "      <td>25593200</td>\n",
       "    </tr>\n",
       "    <tr>\n",
       "      <th>4</th>\n",
       "      <td>2022-12-09</td>\n",
       "      <td>93.900002</td>\n",
       "      <td>94.489998</td>\n",
       "      <td>93.019997</td>\n",
       "      <td>93.070000</td>\n",
       "      <td>93.070000</td>\n",
       "      <td>21885300</td>\n",
       "    </tr>\n",
       "    <tr>\n",
       "      <th>...</th>\n",
       "      <td>...</td>\n",
       "      <td>...</td>\n",
       "      <td>...</td>\n",
       "      <td>...</td>\n",
       "      <td>...</td>\n",
       "      <td>...</td>\n",
       "      <td>...</td>\n",
       "    </tr>\n",
       "    <tr>\n",
       "      <th>245</th>\n",
       "      <td>2023-11-27</td>\n",
       "      <td>137.570007</td>\n",
       "      <td>139.630005</td>\n",
       "      <td>137.539993</td>\n",
       "      <td>138.050003</td>\n",
       "      <td>138.050003</td>\n",
       "      <td>17886400</td>\n",
       "    </tr>\n",
       "    <tr>\n",
       "      <th>246</th>\n",
       "      <td>2023-11-28</td>\n",
       "      <td>137.630005</td>\n",
       "      <td>138.660004</td>\n",
       "      <td>137.039993</td>\n",
       "      <td>138.619995</td>\n",
       "      <td>138.619995</td>\n",
       "      <td>17046900</td>\n",
       "    </tr>\n",
       "    <tr>\n",
       "      <th>247</th>\n",
       "      <td>2023-11-29</td>\n",
       "      <td>138.985001</td>\n",
       "      <td>139.669998</td>\n",
       "      <td>136.294998</td>\n",
       "      <td>136.399994</td>\n",
       "      <td>136.399994</td>\n",
       "      <td>21014700</td>\n",
       "    </tr>\n",
       "    <tr>\n",
       "      <th>248</th>\n",
       "      <td>2023-11-30</td>\n",
       "      <td>136.399994</td>\n",
       "      <td>136.960007</td>\n",
       "      <td>132.789993</td>\n",
       "      <td>133.919998</td>\n",
       "      <td>133.919998</td>\n",
       "      <td>29913500</td>\n",
       "    </tr>\n",
       "    <tr>\n",
       "      <th>249</th>\n",
       "      <td>2023-12-01</td>\n",
       "      <td>133.320007</td>\n",
       "      <td>133.500000</td>\n",
       "      <td>132.151993</td>\n",
       "      <td>133.320007</td>\n",
       "      <td>133.320007</td>\n",
       "      <td>24258400</td>\n",
       "    </tr>\n",
       "  </tbody>\n",
       "</table>\n",
       "<p>250 rows × 7 columns</p>\n",
       "</div>"
      ],
      "text/plain": [
       "           Date        Open        High         Low       Close   Adj Close  \\\n",
       "0    2022-12-05   99.815002  101.750000   99.355003   99.870003   99.870003   \n",
       "1    2022-12-06   99.669998  100.209999   96.760002   97.309998   97.309998   \n",
       "2    2022-12-07   96.769997   97.309998   95.025002   95.150002   95.150002   \n",
       "3    2022-12-08   95.690002   95.870003   93.800003   93.949997   93.949997   \n",
       "4    2022-12-09   93.900002   94.489998   93.019997   93.070000   93.070000   \n",
       "..          ...         ...         ...         ...         ...         ...   \n",
       "245  2023-11-27  137.570007  139.630005  137.539993  138.050003  138.050003   \n",
       "246  2023-11-28  137.630005  138.660004  137.039993  138.619995  138.619995   \n",
       "247  2023-11-29  138.985001  139.669998  136.294998  136.399994  136.399994   \n",
       "248  2023-11-30  136.399994  136.960007  132.789993  133.919998  133.919998   \n",
       "249  2023-12-01  133.320007  133.500000  132.151993  133.320007  133.320007   \n",
       "\n",
       "       Volume  \n",
       "0    19955500  \n",
       "1    20877600  \n",
       "2    26647900  \n",
       "3    25593200  \n",
       "4    21885300  \n",
       "..        ...  \n",
       "245  17886400  \n",
       "246  17046900  \n",
       "247  21014700  \n",
       "248  29913500  \n",
       "249  24258400  \n",
       "\n",
       "[250 rows x 7 columns]"
      ]
     },
     "execution_count": 7,
     "metadata": {},
     "output_type": "execute_result"
    }
   ],
   "source": [
    "dataset_train = pd.read_csv('GOOG.csv')\n",
    "dataset_train"
   ]
  },
  {
   "cell_type": "code",
   "execution_count": 8,
   "id": "7b2051cf",
   "metadata": {},
   "outputs": [
    {
     "data": {
      "text/html": [
       "<div>\n",
       "<style scoped>\n",
       "    .dataframe tbody tr th:only-of-type {\n",
       "        vertical-align: middle;\n",
       "    }\n",
       "\n",
       "    .dataframe tbody tr th {\n",
       "        vertical-align: top;\n",
       "    }\n",
       "\n",
       "    .dataframe thead th {\n",
       "        text-align: right;\n",
       "    }\n",
       "</style>\n",
       "<table border=\"1\" class=\"dataframe\">\n",
       "  <thead>\n",
       "    <tr style=\"text-align: right;\">\n",
       "      <th></th>\n",
       "      <th>Date</th>\n",
       "      <th>Open</th>\n",
       "      <th>High</th>\n",
       "      <th>Low</th>\n",
       "      <th>Close</th>\n",
       "      <th>Adj Close</th>\n",
       "      <th>Volume</th>\n",
       "    </tr>\n",
       "  </thead>\n",
       "  <tbody>\n",
       "    <tr>\n",
       "      <th>247</th>\n",
       "      <td>2023-11-29</td>\n",
       "      <td>138.985001</td>\n",
       "      <td>139.669998</td>\n",
       "      <td>136.294998</td>\n",
       "      <td>136.399994</td>\n",
       "      <td>136.399994</td>\n",
       "      <td>21014700</td>\n",
       "    </tr>\n",
       "    <tr>\n",
       "      <th>248</th>\n",
       "      <td>2023-11-30</td>\n",
       "      <td>136.399994</td>\n",
       "      <td>136.960007</td>\n",
       "      <td>132.789993</td>\n",
       "      <td>133.919998</td>\n",
       "      <td>133.919998</td>\n",
       "      <td>29913500</td>\n",
       "    </tr>\n",
       "    <tr>\n",
       "      <th>249</th>\n",
       "      <td>2023-12-01</td>\n",
       "      <td>133.320007</td>\n",
       "      <td>133.500000</td>\n",
       "      <td>132.151993</td>\n",
       "      <td>133.320007</td>\n",
       "      <td>133.320007</td>\n",
       "      <td>24258400</td>\n",
       "    </tr>\n",
       "  </tbody>\n",
       "</table>\n",
       "</div>"
      ],
      "text/plain": [
       "           Date        Open        High         Low       Close   Adj Close  \\\n",
       "247  2023-11-29  138.985001  139.669998  136.294998  136.399994  136.399994   \n",
       "248  2023-11-30  136.399994  136.960007  132.789993  133.919998  133.919998   \n",
       "249  2023-12-01  133.320007  133.500000  132.151993  133.320007  133.320007   \n",
       "\n",
       "       Volume  \n",
       "247  21014700  \n",
       "248  29913500  \n",
       "249  24258400  "
      ]
     },
     "execution_count": 8,
     "metadata": {},
     "output_type": "execute_result"
    }
   ],
   "source": [
    "dataset_train.iloc[-3:,:]"
   ]
  },
  {
   "cell_type": "markdown",
   "id": "dd87af54",
   "metadata": {},
   "source": [
    "# Data Check info & types"
   ]
  },
  {
   "cell_type": "code",
   "execution_count": 9,
   "id": "cac8171c",
   "metadata": {
    "scrolled": true
   },
   "outputs": [
    {
     "name": "stdout",
     "output_type": "stream",
     "text": [
      "<class 'pandas.core.frame.DataFrame'>\n",
      "RangeIndex: 250 entries, 0 to 249\n",
      "Data columns (total 7 columns):\n",
      " #   Column     Non-Null Count  Dtype  \n",
      "---  ------     --------------  -----  \n",
      " 0   Date       250 non-null    object \n",
      " 1   Open       250 non-null    float64\n",
      " 2   High       250 non-null    float64\n",
      " 3   Low        250 non-null    float64\n",
      " 4   Close      250 non-null    float64\n",
      " 5   Adj Close  250 non-null    float64\n",
      " 6   Volume     250 non-null    int64  \n",
      "dtypes: float64(5), int64(1), object(1)\n",
      "memory usage: 13.8+ KB\n"
     ]
    }
   ],
   "source": [
    "dataset_train.info()"
   ]
  },
  {
   "cell_type": "code",
   "execution_count": 10,
   "id": "1efc7b7f",
   "metadata": {},
   "outputs": [
    {
     "data": {
      "text/plain": [
       "Date          object\n",
       "Open         float64\n",
       "High         float64\n",
       "Low          float64\n",
       "Close        float64\n",
       "Adj Close    float64\n",
       "Volume         int64\n",
       "dtype: object"
      ]
     },
     "execution_count": 10,
     "metadata": {},
     "output_type": "execute_result"
    }
   ],
   "source": [
    "dataset_train.dtypes"
   ]
  },
  {
   "cell_type": "markdown",
   "id": "9b049f16",
   "metadata": {},
   "source": [
    "# Data Shape"
   ]
  },
  {
   "cell_type": "code",
   "execution_count": 11,
   "id": "0e881f15",
   "metadata": {
    "scrolled": true
   },
   "outputs": [
    {
     "name": "stdout",
     "output_type": "stream",
     "text": [
      "[[ 99.870003]\n",
      " [ 97.309998]\n",
      " [ 95.150002]\n",
      " [ 93.949997]\n",
      " [ 93.07    ]\n",
      " [ 93.559998]\n",
      " [ 95.849998]\n",
      " [ 95.309998]\n",
      " [ 91.199997]\n",
      " [ 90.860001]\n",
      " [ 89.150002]\n",
      " [ 89.629997]\n",
      " [ 90.25    ]\n",
      " [ 88.260002]\n",
      " [ 89.809998]\n",
      " [ 87.93    ]\n",
      " [ 86.459999]\n",
      " [ 88.949997]\n",
      " [ 88.730003]\n",
      " [ 89.699997]\n",
      " [ 88.709999]\n",
      " [ 86.769997]\n",
      " [ 88.160004]\n",
      " [ 88.800003]\n",
      " [ 89.239998]\n",
      " [ 92.260002]\n",
      " [ 91.910004]\n",
      " [ 92.800003]\n",
      " [ 92.160004]\n",
      " [ 91.779999]\n",
      " [ 93.910004]\n",
      " [ 99.279999]\n",
      " [101.209999]\n",
      " [ 99.209999]\n",
      " [ 96.730003]\n",
      " [ 99.160004]\n",
      " [100.709999]\n",
      " [ 97.949997]\n",
      " [ 99.870003]\n",
      " [101.43    ]\n",
      " [108.800003]\n",
      " [105.220001]\n",
      " [103.470001]\n",
      " [108.040001]\n",
      " [100.      ]\n",
      " [ 95.459999]\n",
      " [ 94.860001]\n",
      " [ 95.      ]\n",
      " [ 94.949997]\n",
      " [ 97.099998]\n",
      " [ 95.779999]\n",
      " [ 94.589996]\n",
      " [ 92.050003]\n",
      " [ 91.800003]\n",
      " [ 91.07    ]\n",
      " [ 89.349998]\n",
      " [ 90.099998]\n",
      " [ 90.300003]\n",
      " [ 90.510002]\n",
      " [ 92.309998]\n",
      " [ 94.019997]\n",
      " [ 95.580002]\n",
      " [ 94.169998]\n",
      " [ 94.650002]\n",
      " [ 92.660004]\n",
      " [ 91.010002]\n",
      " [ 91.660004]\n",
      " [ 94.25    ]\n",
      " [ 96.550003]\n",
      " [101.07    ]\n",
      " [102.459999]\n",
      " [101.93    ]\n",
      " [105.839996]\n",
      " [104.220001]\n",
      " [106.260002]\n",
      " [106.059998]\n",
      " [103.059998]\n",
      " [101.360001]\n",
      " [101.900002]\n",
      " [101.32    ]\n",
      " [104.      ]\n",
      " [104.910004]\n",
      " [105.120003]\n",
      " [104.949997]\n",
      " [108.900002]\n",
      " [106.949997]\n",
      " [106.120003]\n",
      " [105.220001]\n",
      " [108.190002]\n",
      " [109.459999]\n",
      " [106.419998]\n",
      " [105.120003]\n",
      " [105.019997]\n",
      " [105.900002]\n",
      " [105.910004]\n",
      " [106.779999]\n",
      " [104.610001]\n",
      " [104.449997]\n",
      " [108.370003]\n",
      " [108.220001]\n",
      " [107.709999]\n",
      " [105.980003]\n",
      " [106.120003]\n",
      " [105.209999]\n",
      " [106.214996]\n",
      " [108.239998]\n",
      " [107.940002]\n",
      " [112.279999]\n",
      " [116.900002]\n",
      " [117.919998]\n",
      " [116.959999]\n",
      " [120.089996]\n",
      " [121.480003]\n",
      " [123.519997]\n",
      " [123.25    ]\n",
      " [125.870003]\n",
      " [123.290001]\n",
      " [121.639999]\n",
      " [124.349998]\n",
      " [125.43    ]\n",
      " [124.639999]\n",
      " [123.370003]\n",
      " [124.370003]\n",
      " [125.230003]\n",
      " [126.629997]\n",
      " [127.910004]\n",
      " [122.940002]\n",
      " [122.669998]\n",
      " [122.870003]\n",
      " [124.349998]\n",
      " [124.43    ]\n",
      " [124.379997]\n",
      " [125.790001]\n",
      " [124.059998]\n",
      " [123.849998]\n",
      " [121.260002]\n",
      " [123.870003]\n",
      " [123.019997]\n",
      " [119.089996]\n",
      " [119.010002]\n",
      " [121.080002]\n",
      " [120.010002]\n",
      " [120.970001]\n",
      " [120.559998]\n",
      " [122.629997]\n",
      " [120.93    ]\n",
      " [120.139999]\n",
      " [116.870003]\n",
      " [117.709999]\n",
      " [119.620003]\n",
      " [124.830002]\n",
      " [125.699997]\n",
      " [125.059998]\n",
      " [124.080002]\n",
      " [122.779999]\n",
      " [119.529999]\n",
      " [120.309998]\n",
      " [121.879997]\n",
      " [122.790001]\n",
      " [129.660004]\n",
      " [129.869995]\n",
      " [133.009995]\n",
      " [133.110001]\n",
      " [131.889999]\n",
      " [128.639999]\n",
      " [128.770004]\n",
      " [128.539993]\n",
      " [131.940002]\n",
      " [131.839996]\n",
      " [130.149994]\n",
      " [130.210007]\n",
      " [130.169998]\n",
      " [131.830002]\n",
      " [130.270004]\n",
      " [129.110001]\n",
      " [130.460007]\n",
      " [128.110001]\n",
      " [128.929993]\n",
      " [129.690002]\n",
      " [133.210007]\n",
      " [130.419998]\n",
      " [130.690002]\n",
      " [131.789993]\n",
      " [135.490005]\n",
      " [136.929993]\n",
      " [137.350006]\n",
      " [136.800003]\n",
      " [136.710007]\n",
      " [135.369995]\n",
      " [136.199997]\n",
      " [137.199997]\n",
      " [137.740005]\n",
      " [136.070007]\n",
      " [137.5     ]\n",
      " [138.990005]\n",
      " [138.300003]\n",
      " [138.960007]\n",
      " [138.830002]\n",
      " [134.589996]\n",
      " [131.360001]\n",
      " [131.25    ]\n",
      " [132.169998]\n",
      " [129.449997]\n",
      " [131.460007]\n",
      " [133.130005]\n",
      " [131.850006]\n",
      " [135.169998]\n",
      " [133.300003]\n",
      " [136.270004]\n",
      " [135.990005]\n",
      " [138.729996]\n",
      " [139.5     ]\n",
      " [139.199997]\n",
      " [141.699997]\n",
      " [140.289993]\n",
      " [138.580002]\n",
      " [140.490005]\n",
      " [140.990005]\n",
      " [139.279999]\n",
      " [138.979996]\n",
      " [136.740005]\n",
      " [137.899994]\n",
      " [140.119995]\n",
      " [126.669998]\n",
      " [123.440002]\n",
      " [123.400002]\n",
      " [125.75    ]\n",
      " [125.300003]\n",
      " [127.57    ]\n",
      " [128.580002]\n",
      " [130.369995]\n",
      " [131.449997]\n",
      " [132.399994]\n",
      " [133.259995]\n",
      " [131.690002]\n",
      " [134.059998]\n",
      " [133.639999]\n",
      " [135.429993]\n",
      " [136.380005]\n",
      " [138.699997]\n",
      " [136.940002]\n",
      " [137.919998]\n",
      " [138.619995]\n",
      " [140.020004]\n",
      " [138.220001]\n",
      " [138.050003]\n",
      " [138.619995]\n",
      " [136.399994]\n",
      " [133.919998]\n",
      " [133.320007]]\n",
      "(250, 1)\n"
     ]
    }
   ],
   "source": [
    "training_set = dataset_train.iloc[: , -2:-1].values\n",
    "print(training_set)\n",
    "print(training_set.shape)"
   ]
  },
  {
   "cell_type": "code",
   "execution_count": 12,
   "id": "16f88eac",
   "metadata": {},
   "outputs": [
    {
     "data": {
      "text/plain": [
       "array([[0.24275895],\n",
       "       [0.19641563],\n",
       "       [0.1573136 ],\n",
       "       [0.13559012],\n",
       "       [0.11965969],\n",
       "       [0.12853004],\n",
       "       [0.16998551],\n",
       "       [0.16020998],\n",
       "       [0.08580735],\n",
       "       [0.07965246],\n",
       "       [0.04869665],\n",
       "       [0.05738592],\n",
       "       [0.06860972],\n",
       "       [0.03258514],\n",
       "       [0.06064444],\n",
       "       [0.02661117],\n",
       "       [0.        ],\n",
       "       [0.045076  ],\n",
       "       [0.04109348],\n",
       "       [0.05865312],\n",
       "       [0.04073136],\n",
       "       [0.00561184],\n",
       "       [0.03077489],\n",
       "       [0.04236068],\n",
       "       [0.05032583],\n",
       "       [0.10499644],\n",
       "       [0.09866049],\n",
       "       [0.11477198],\n",
       "       [0.10318619],\n",
       "       [0.09630703],\n",
       "       [0.13486613],\n",
       "       [0.23207821],\n",
       "       [0.26701666],\n",
       "       [0.23081101],\n",
       "       [0.18591608],\n",
       "       [0.22990596],\n",
       "       [0.25796525],\n",
       "       [0.20800142],\n",
       "       [0.24275895],\n",
       "       [0.2709993 ],\n",
       "       [0.40441718],\n",
       "       [0.33960903],\n",
       "       [0.30792908],\n",
       "       [0.39065899],\n",
       "       [0.24511226],\n",
       "       [0.16292542],\n",
       "       [0.15206376],\n",
       "       [0.15459814],\n",
       "       [0.15369295],\n",
       "       [0.19261404],\n",
       "       [0.16871833],\n",
       "       [0.14717591],\n",
       "       [0.10119486],\n",
       "       [0.09666916],\n",
       "       [0.08345404],\n",
       "       [0.05231715],\n",
       "       [0.06589426],\n",
       "       [0.06951492],\n",
       "       [0.07331649],\n",
       "       [0.10590151],\n",
       "       [0.13685732],\n",
       "       [0.16509782],\n",
       "       [0.13957276],\n",
       "       [0.14826219],\n",
       "       [0.1122376 ],\n",
       "       [0.08236791],\n",
       "       [0.09413478],\n",
       "       [0.14102102],\n",
       "       [0.18265757],\n",
       "       [0.26448229],\n",
       "       [0.2896452 ],\n",
       "       [0.28005072],\n",
       "       [0.35083269],\n",
       "       [0.3215062 ],\n",
       "       [0.35843598],\n",
       "       [0.35481535],\n",
       "       [0.30050687],\n",
       "       [0.26973212],\n",
       "       [0.27950767],\n",
       "       [0.26900799],\n",
       "       [0.31752356],\n",
       "       [0.33399721],\n",
       "       [0.33779878],\n",
       "       [0.33472119],\n",
       "       [0.40622744],\n",
       "       [0.37092684],\n",
       "       [0.35590161],\n",
       "       [0.33960903],\n",
       "       [0.39337443],\n",
       "       [0.41636497],\n",
       "       [0.36133236],\n",
       "       [0.33779878],\n",
       "       [0.33598839],\n",
       "       [0.35191897],\n",
       "       [0.35210003],\n",
       "       [0.3678494 ],\n",
       "       [0.3285663 ],\n",
       "       [0.32566978],\n",
       "       [0.39663296],\n",
       "       [0.3939175 ],\n",
       "       [0.38468502],\n",
       "       [0.35336721],\n",
       "       [0.35590161],\n",
       "       [0.33942796],\n",
       "       [0.35762125],\n",
       "       [0.3942795 ],\n",
       "       [0.38884873],\n",
       "       [0.46741493],\n",
       "       [0.55105004],\n",
       "       [0.56951485],\n",
       "       [0.55213615],\n",
       "       [0.60879794],\n",
       "       [0.63396099],\n",
       "       [0.67089065],\n",
       "       [0.66600294],\n",
       "       [0.71343239],\n",
       "       [0.66672707],\n",
       "       [0.63685737],\n",
       "       [0.68591601],\n",
       "       [0.7054671 ],\n",
       "       [0.69116585],\n",
       "       [0.66817533],\n",
       "       [0.68627816],\n",
       "       [0.70184659],\n",
       "       [0.72719043],\n",
       "       [0.75036217],\n",
       "       [0.6603911 ],\n",
       "       [0.65550326],\n",
       "       [0.65912392],\n",
       "       [0.68591601],\n",
       "       [0.68736427],\n",
       "       [0.68645908],\n",
       "       [0.71198413],\n",
       "       [0.68066619],\n",
       "       [0.6768646 ],\n",
       "       [0.62997835],\n",
       "       [0.67722674],\n",
       "       [0.66183923],\n",
       "       [0.59069512],\n",
       "       [0.589247  ],\n",
       "       [0.62671985],\n",
       "       [0.60734982],\n",
       "       [0.62472852],\n",
       "       [0.6173063 ],\n",
       "       [0.65477913],\n",
       "       [0.62400439],\n",
       "       [0.60970314],\n",
       "       [0.55050697],\n",
       "       [0.56571327],\n",
       "       [0.60028974],\n",
       "       [0.69460544],\n",
       "       [0.7103548 ],\n",
       "       [0.69876902],\n",
       "       [0.68102832],\n",
       "       [0.65749459],\n",
       "       [0.59866041],\n",
       "       [0.6127806 ],\n",
       "       [0.64120201],\n",
       "       [0.65767566],\n",
       "       [0.78204212],\n",
       "       [0.78584355],\n",
       "       [0.84268642],\n",
       "       [0.84449681],\n",
       "       [0.82241133],\n",
       "       [0.76357715],\n",
       "       [0.7659306 ],\n",
       "       [0.76176675],\n",
       "       [0.82331652],\n",
       "       [0.82150613],\n",
       "       [0.79091232],\n",
       "       [0.79199873],\n",
       "       [0.79127445],\n",
       "       [0.82132521],\n",
       "       [0.79308484],\n",
       "       [0.77208551],\n",
       "       [0.79652443],\n",
       "       [0.75398268],\n",
       "       [0.76882686],\n",
       "       [0.78258517],\n",
       "       [0.8463072 ],\n",
       "       [0.79580016],\n",
       "       [0.80068799],\n",
       "       [0.82060093],\n",
       "       [0.8875816 ],\n",
       "       [0.91364945],\n",
       "       [0.92125288],\n",
       "       [0.91129627],\n",
       "       [0.90966709],\n",
       "       [0.88540908],\n",
       "       [0.90043446],\n",
       "       [0.91853729],\n",
       "       [0.92831296],\n",
       "       [0.89808128],\n",
       "       [0.92396819],\n",
       "       [0.95094149],\n",
       "       [0.9384505 ],\n",
       "       [0.95039844],\n",
       "       [0.94804498],\n",
       "       [0.8712889 ],\n",
       "       [0.81281687],\n",
       "       [0.81082554],\n",
       "       [0.8274801 ],\n",
       "       [0.7782404 ],\n",
       "       [0.81462726],\n",
       "       [0.84485894],\n",
       "       [0.82168734],\n",
       "       [0.88178857],\n",
       "       [0.84793638],\n",
       "       [0.90170179],\n",
       "       [0.89663302],\n",
       "       [0.94623459],\n",
       "       [0.96017384],\n",
       "       [0.95474294],\n",
       "       [1.        ],\n",
       "       [0.97447494],\n",
       "       [0.94351928],\n",
       "       [0.97809573],\n",
       "       [0.98714714],\n",
       "       [0.9561912 ],\n",
       "       [0.9507603 ],\n",
       "       [0.91021013],\n",
       "       [0.93120921],\n",
       "       [0.9713975 ],\n",
       "       [0.72791456],\n",
       "       [0.66944251],\n",
       "       [0.6687184 ],\n",
       "       [0.71126   ],\n",
       "       [0.70311378],\n",
       "       [0.74420714],\n",
       "       [0.76249103],\n",
       "       [0.79489496],\n",
       "       [0.81444605],\n",
       "       [0.83164368],\n",
       "       [0.84721212],\n",
       "       [0.81879082],\n",
       "       [0.86169444],\n",
       "       [0.85409127],\n",
       "       [0.88649522],\n",
       "       [0.90369312],\n",
       "       [0.94569153],\n",
       "       [0.91383064],\n",
       "       [0.93157134],\n",
       "       [0.94424326],\n",
       "       [0.96958738],\n",
       "       [0.93700224],\n",
       "       [0.9339248 ],\n",
       "       [0.94424326],\n",
       "       [0.90405497],\n",
       "       [0.85916004],\n",
       "       [0.84829851]])"
      ]
     },
     "execution_count": 12,
     "metadata": {},
     "output_type": "execute_result"
    }
   ],
   "source": [
    "from sklearn.preprocessing import MinMaxScaler\n",
    "scaler = MinMaxScaler(feature_range = (0,1))\n",
    "scaled_training_set = scaler.fit_transform(training_set)\n",
    "scaled_training_set"
   ]
  },
  {
   "cell_type": "markdown",
   "id": "7283f385",
   "metadata": {},
   "source": [
    "# Data Structure"
   ]
  },
  {
   "cell_type": "code",
   "execution_count": 13,
   "id": "94ece494",
   "metadata": {},
   "outputs": [],
   "source": [
    "x_train = []\n",
    "y_train = []\n",
    "for i in range(60,250):\n",
    "    x_train.append(scaled_training_set[i-60:i,0])\n",
    "    y_train.append(scaled_training_set[i,0])\n",
    "x_train = np.array(x_train)\n",
    "y_train = np.array(y_train)"
   ]
  },
  {
   "cell_type": "code",
   "execution_count": 14,
   "id": "f7ac23a7",
   "metadata": {},
   "outputs": [
    {
     "name": "stdout",
     "output_type": "stream",
     "text": [
      "(190, 60)\n",
      "(190,)\n"
     ]
    }
   ],
   "source": [
    "print(x_train.shape)\n",
    "print(y_train.shape)"
   ]
  },
  {
   "cell_type": "code",
   "execution_count": 15,
   "id": "f882e7a9",
   "metadata": {},
   "outputs": [
    {
     "data": {
      "text/plain": [
       "array([0.13685732])"
      ]
     },
     "execution_count": 15,
     "metadata": {},
     "output_type": "execute_result"
    }
   ],
   "source": [
    "scaled_training_set[60]"
   ]
  },
  {
   "cell_type": "code",
   "execution_count": 16,
   "id": "e0b40f35-a49c-4be2-a7a5-b56cd18f1ea7",
   "metadata": {
    "scrolled": true
   },
   "outputs": [
    {
     "data": {
      "text/plain": [
       "(array([[0.24275895, 0.19641563, 0.1573136 , ..., 0.06951492, 0.07331649,\n",
       "         0.10590151],\n",
       "        [0.19641563, 0.1573136 , 0.13559012, ..., 0.07331649, 0.10590151,\n",
       "         0.13685732],\n",
       "        [0.1573136 , 0.13559012, 0.11965969, ..., 0.10590151, 0.13685732,\n",
       "         0.16509782],\n",
       "        ...,\n",
       "        [0.90966709, 0.88540908, 0.90043446, ..., 0.93700224, 0.9339248 ,\n",
       "         0.94424326],\n",
       "        [0.88540908, 0.90043446, 0.91853729, ..., 0.9339248 , 0.94424326,\n",
       "         0.90405497],\n",
       "        [0.90043446, 0.91853729, 0.92831296, ..., 0.94424326, 0.90405497,\n",
       "         0.85916004]]),\n",
       " array([0.13685732, 0.16509782, 0.13957276, 0.14826219, 0.1122376 ,\n",
       "        0.08236791, 0.09413478, 0.14102102, 0.18265757, 0.26448229,\n",
       "        0.2896452 , 0.28005072, 0.35083269, 0.3215062 , 0.35843598,\n",
       "        0.35481535, 0.30050687, 0.26973212, 0.27950767, 0.26900799,\n",
       "        0.31752356, 0.33399721, 0.33779878, 0.33472119, 0.40622744,\n",
       "        0.37092684, 0.35590161, 0.33960903, 0.39337443, 0.41636497,\n",
       "        0.36133236, 0.33779878, 0.33598839, 0.35191897, 0.35210003,\n",
       "        0.3678494 , 0.3285663 , 0.32566978, 0.39663296, 0.3939175 ,\n",
       "        0.38468502, 0.35336721, 0.35590161, 0.33942796, 0.35762125,\n",
       "        0.3942795 , 0.38884873, 0.46741493, 0.55105004, 0.56951485,\n",
       "        0.55213615, 0.60879794, 0.63396099, 0.67089065, 0.66600294,\n",
       "        0.71343239, 0.66672707, 0.63685737, 0.68591601, 0.7054671 ,\n",
       "        0.69116585, 0.66817533, 0.68627816, 0.70184659, 0.72719043,\n",
       "        0.75036217, 0.6603911 , 0.65550326, 0.65912392, 0.68591601,\n",
       "        0.68736427, 0.68645908, 0.71198413, 0.68066619, 0.6768646 ,\n",
       "        0.62997835, 0.67722674, 0.66183923, 0.59069512, 0.589247  ,\n",
       "        0.62671985, 0.60734982, 0.62472852, 0.6173063 , 0.65477913,\n",
       "        0.62400439, 0.60970314, 0.55050697, 0.56571327, 0.60028974,\n",
       "        0.69460544, 0.7103548 , 0.69876902, 0.68102832, 0.65749459,\n",
       "        0.59866041, 0.6127806 , 0.64120201, 0.65767566, 0.78204212,\n",
       "        0.78584355, 0.84268642, 0.84449681, 0.82241133, 0.76357715,\n",
       "        0.7659306 , 0.76176675, 0.82331652, 0.82150613, 0.79091232,\n",
       "        0.79199873, 0.79127445, 0.82132521, 0.79308484, 0.77208551,\n",
       "        0.79652443, 0.75398268, 0.76882686, 0.78258517, 0.8463072 ,\n",
       "        0.79580016, 0.80068799, 0.82060093, 0.8875816 , 0.91364945,\n",
       "        0.92125288, 0.91129627, 0.90966709, 0.88540908, 0.90043446,\n",
       "        0.91853729, 0.92831296, 0.89808128, 0.92396819, 0.95094149,\n",
       "        0.9384505 , 0.95039844, 0.94804498, 0.8712889 , 0.81281687,\n",
       "        0.81082554, 0.8274801 , 0.7782404 , 0.81462726, 0.84485894,\n",
       "        0.82168734, 0.88178857, 0.84793638, 0.90170179, 0.89663302,\n",
       "        0.94623459, 0.96017384, 0.95474294, 1.        , 0.97447494,\n",
       "        0.94351928, 0.97809573, 0.98714714, 0.9561912 , 0.9507603 ,\n",
       "        0.91021013, 0.93120921, 0.9713975 , 0.72791456, 0.66944251,\n",
       "        0.6687184 , 0.71126   , 0.70311378, 0.74420714, 0.76249103,\n",
       "        0.79489496, 0.81444605, 0.83164368, 0.84721212, 0.81879082,\n",
       "        0.86169444, 0.85409127, 0.88649522, 0.90369312, 0.94569153,\n",
       "        0.91383064, 0.93157134, 0.94424326, 0.96958738, 0.93700224,\n",
       "        0.9339248 , 0.94424326, 0.90405497, 0.85916004, 0.84829851]))"
      ]
     },
     "execution_count": 16,
     "metadata": {},
     "output_type": "execute_result"
    }
   ],
   "source": [
    "x_train,y_train"
   ]
  },
  {
   "cell_type": "code",
   "execution_count": 17,
   "id": "e79108d0-568e-429c-b51d-2d92da23eda6",
   "metadata": {},
   "outputs": [
    {
     "data": {
      "text/plain": [
       "(190, 60, 1)"
      ]
     },
     "execution_count": 17,
     "metadata": {},
     "output_type": "execute_result"
    }
   ],
   "source": [
    "x_train.shape[0], x_train.shape[1],1"
   ]
  },
  {
   "cell_type": "code",
   "execution_count": 18,
   "id": "db90a3a3",
   "metadata": {},
   "outputs": [
    {
     "data": {
      "text/plain": [
       "(190, 60, 1)"
      ]
     },
     "execution_count": 18,
     "metadata": {},
     "output_type": "execute_result"
    }
   ],
   "source": [
    "x_train = np.reshape(x_train,(x_train.shape[0],x_train.shape[1],1))\n",
    "x_train.shape"
   ]
  },
  {
   "cell_type": "markdown",
   "id": "ce7c4633",
   "metadata": {},
   "source": [
    "# Stock Value Analysis One by One"
   ]
  },
  {
   "cell_type": "code",
   "execution_count": 19,
   "id": "ff5ee52a",
   "metadata": {},
   "outputs": [
    {
     "data": {
      "text/plain": [
       "array([[<Axes: title={'center': 'Open'}>,\n",
       "        <Axes: title={'center': 'High'}>],\n",
       "       [<Axes: title={'center': 'Low'}>,\n",
       "        <Axes: title={'center': 'Close'}>],\n",
       "       [<Axes: title={'center': 'Adj Close'}>,\n",
       "        <Axes: title={'center': 'Volume'}>]], dtype=object)"
      ]
     },
     "execution_count": 19,
     "metadata": {},
     "output_type": "execute_result"
    },
    {
     "data": {
      "image/png": "[encoded data removed]",
      "text/plain": [
       "<Figure size 2500x2500 with 6 Axes>"
      ]
     },
     "metadata": {},
     "output_type": "display_data"
    }
   ],
   "source": [
    "dataset_train.hist(figsize = (25,25))"
   ]
  },
  {
   "cell_type": "code",
   "execution_count": 20,
   "id": "46b0317d",
   "metadata": {},
   "outputs": [
    {
     "name": "stdout",
     "output_type": "stream",
     "text": [
      "Open\n",
      "-0.21173919541085823\n",
      "High\n",
      "-0.2335135763914144\n",
      "Low\n",
      "-0.21539577939609708\n",
      "Close\n",
      "-0.22474009085975516\n",
      "Adj Close\n",
      "-0.22474009085975516\n",
      "Volume\n",
      "2.8105039394839593\n"
     ]
    },
    {
     "data": {
      "text/plain": [
       "<Figure size 640x480 with 0 Axes>"
      ]
     },
     "metadata": {},
     "output_type": "display_data"
    },
    {
     "data": {
      "image/png": "[encoded data removed]",
      "text/plain": [
       "<Figure size 500x500 with 1 Axes>"
      ]
     },
     "metadata": {},
     "output_type": "display_data"
    },
    {
     "data": {
      "text/plain": [
       "<Figure size 640x480 with 0 Axes>"
      ]
     },
     "metadata": {},
     "output_type": "display_data"
    },
    {
     "data": {
      "image/png": "[encoded data removed]",
      "text/plain": [
       "<Figure size 500x500 with 1 Axes>"
      ]
     },
     "metadata": {},
     "output_type": "display_data"
    },
    {
     "data": {
      "text/plain": [
       "<Figure size 640x480 with 0 Axes>"
      ]
     },
     "metadata": {},
     "output_type": "display_data"
    },
    {
     "data": {
      "image/png": "[encoded data removed]",
      "text/plain": [
       "<Figure size 500x500 with 1 Axes>"
      ]
     },
     "metadata": {},
     "output_type": "display_data"
    },
    {
     "data": {
      "text/plain": [
       "<Figure size 640x480 with 0 Axes>"
      ]
     },
     "metadata": {},
     "output_type": "display_data"
    },
    {
     "data": {
      "image/png": "[encoded data removed]",
      "text/plain": [
       "<Figure size 500x500 with 1 Axes>"
      ]
     },
     "metadata": {},
     "output_type": "display_data"
    },
    {
     "data": {
      "text/plain": [
       "<Figure size 640x480 with 0 Axes>"
      ]
     },
     "metadata": {},
     "output_type": "display_data"
    },
    {
     "data": {
      "image/png": "[encoded data removed]",
      "text/plain": [
       "<Figure size 500x500 with 1 Axes>"
      ]
     },
     "metadata": {},
     "output_type": "display_data"
    },
    {
     "data": {
      "text/plain": [
       "<Figure size 640x480 with 0 Axes>"
      ]
     },
     "metadata": {},
     "output_type": "display_data"
    },
    {
     "data": {
      "image/png": "[encoded data removed]",
      "text/plain": [
       "<Figure size 500x500 with 1 Axes>"
      ]
     },
     "metadata": {},
     "output_type": "display_data"
    }
   ],
   "source": [
    "from scipy.stats import skew\n",
    "import matplotlib.pyplot as plt\n",
    "import seaborn as sns\n",
    "\n",
    "numeric_columns = dataset_train.select_dtypes(include = [np.number]).columns\n",
    "\n",
    "for i in numeric_columns:\n",
    "    print(i)\n",
    "    print(skew(dataset_train[i]))\n",
    "    plt.figure()\n",
    "    sns.displot(dataset_train[i])"
   ]
  },
  {
   "cell_type": "markdown",
   "id": "9ba6e1c4",
   "metadata": {},
   "source": [
    "# LSTM Analysis Step by Step"
   ]
  },
  {
   "cell_type": "code",
   "execution_count": 21,
   "id": "c6fbcbba",
   "metadata": {},
   "outputs": [],
   "source": [
    "from keras.models import Sequential\n",
    "from keras.layers import LSTM\n",
    "from keras.layers import Dense\n",
    "from keras.layers import Dropout"
   ]
  },
  {
   "cell_type": "code",
   "execution_count": 22,
   "id": "54779aec",
   "metadata": {},
   "outputs": [
    {
     "name": "stdout",
     "output_type": "stream",
     "text": [
      "WARNING:tensorflow:From C:\\Users\\HP NOTES\\anaconda3\\Lib\\site-packages\\keras\\src\\backend.py:873: The name tf.get_default_graph is deprecated. Please use tf.compat.v1.get_default_graph instead.\n",
      "\n"
     ]
    }
   ],
   "source": [
    "regressor = Sequential()\n",
    "\n",
    "regressor.add(LSTM(units = 60 , return_sequences = True, input_shape = (x_train.shape[1],1)))\n",
    "regressor.add(Dropout(0.01))\n",
    "\n",
    "regressor.add(LSTM(units = 50 , return_sequences = True))\n",
    "regressor.add(Dropout(0.01))\n",
    "\n",
    "regressor.add(LSTM(units = 50 , return_sequences = True))\n",
    "regressor.add(Dropout(0.01))\n",
    "\n",
    "regressor.add(LSTM(units = 50))\n",
    "regressor.add(Dropout(0.01))\n",
    "\n",
    "regressor.add(Dense(units = 1))"
   ]
  },
  {
   "cell_type": "code",
   "execution_count": 23,
   "id": "37e3f5ca",
   "metadata": {
    "scrolled": true
   },
   "outputs": [
    {
     "name": "stdout",
     "output_type": "stream",
     "text": [
      "WARNING:tensorflow:From C:\\Users\\HP NOTES\\anaconda3\\Lib\\site-packages\\keras\\src\\optimizers\\__init__.py:309: The name tf.train.Optimizer is deprecated. Please use tf.compat.v1.train.Optimizer instead.\n",
      "\n",
      "Epoch 1/100\n",
      "WARNING:tensorflow:From C:\\Users\\HP NOTES\\anaconda3\\Lib\\site-packages\\keras\\src\\utils\\tf_utils.py:492: The name tf.ragged.RaggedTensorValue is deprecated. Please use tf.compat.v1.ragged.RaggedTensorValue instead.\n",
      "\n",
      "24/24 [==============================] - 10s 63ms/step - loss: 0.0965\n",
      "Epoch 2/100\n",
      "24/24 [==============================] - 1s 60ms/step - loss: 0.0136\n",
      "Epoch 3/100\n",
      "24/24 [==============================] - 1s 59ms/step - loss: 0.0105\n",
      "Epoch 4/100\n",
      "24/24 [==============================] - 1s 59ms/step - loss: 0.0094\n",
      "Epoch 5/100\n",
      "24/24 [==============================] - 1s 58ms/step - loss: 0.0093\n",
      "Epoch 6/100\n",
      "24/24 [==============================] - 2s 64ms/step - loss: 0.0091\n",
      "Epoch 7/100\n",
      "24/24 [==============================] - 2s 68ms/step - loss: 0.0102\n",
      "Epoch 8/100\n",
      "24/24 [==============================] - 1s 60ms/step - loss: 0.0096\n",
      "Epoch 9/100\n",
      "24/24 [==============================] - 1s 58ms/step - loss: 0.0093\n",
      "Epoch 10/100\n",
      "24/24 [==============================] - 1s 58ms/step - loss: 0.0099\n",
      "Epoch 11/100\n",
      "24/24 [==============================] - 1s 57ms/step - loss: 0.0096\n",
      "Epoch 12/100\n",
      "24/24 [==============================] - 1s 58ms/step - loss: 0.0085\n",
      "Epoch 13/100\n",
      "24/24 [==============================] - 2s 64ms/step - loss: 0.0092\n",
      "Epoch 14/100\n",
      "24/24 [==============================] - 2s 63ms/step - loss: 0.0092\n",
      "Epoch 15/100\n",
      "24/24 [==============================] - 1s 61ms/step - loss: 0.0088\n",
      "Epoch 16/100\n",
      "24/24 [==============================] - 1s 58ms/step - loss: 0.0092\n",
      "Epoch 17/100\n",
      "24/24 [==============================] - 1s 56ms/step - loss: 0.0070\n",
      "Epoch 18/100\n",
      "24/24 [==============================] - 1s 58ms/step - loss: 0.0064\n",
      "Epoch 19/100\n",
      "24/24 [==============================] - 1s 58ms/step - loss: 0.0070\n",
      "Epoch 20/100\n",
      "24/24 [==============================] - 1s 57ms/step - loss: 0.0061\n",
      "Epoch 21/100\n",
      "24/24 [==============================] - 1s 59ms/step - loss: 0.0055\n",
      "Epoch 22/100\n",
      "24/24 [==============================] - 1s 57ms/step - loss: 0.0055\n",
      "Epoch 23/100\n",
      "24/24 [==============================] - 1s 59ms/step - loss: 0.0052\n",
      "Epoch 24/100\n",
      "24/24 [==============================] - 1s 61ms/step - loss: 0.0055\n",
      "Epoch 25/100\n",
      "24/24 [==============================] - 1s 59ms/step - loss: 0.0052\n",
      "Epoch 26/100\n",
      "24/24 [==============================] - 1s 61ms/step - loss: 0.0047\n",
      "Epoch 27/100\n",
      "24/24 [==============================] - 1s 61ms/step - loss: 0.0049\n",
      "Epoch 28/100\n",
      "24/24 [==============================] - 1s 61ms/step - loss: 0.0059\n",
      "Epoch 29/100\n",
      "24/24 [==============================] - 1s 62ms/step - loss: 0.0046\n",
      "Epoch 30/100\n",
      "24/24 [==============================] - 1s 61ms/step - loss: 0.0046\n",
      "Epoch 31/100\n",
      "24/24 [==============================] - 1s 62ms/step - loss: 0.0041\n",
      "Epoch 32/100\n",
      "24/24 [==============================] - 1s 62ms/step - loss: 0.0043\n",
      "Epoch 33/100\n",
      "24/24 [==============================] - 1s 61ms/step - loss: 0.0047\n",
      "Epoch 34/100\n",
      "24/24 [==============================] - 1s 62ms/step - loss: 0.0044\n",
      "Epoch 35/100\n",
      "24/24 [==============================] - 1s 62ms/step - loss: 0.0047\n",
      "Epoch 36/100\n",
      "24/24 [==============================] - 1s 61ms/step - loss: 0.0044\n",
      "Epoch 37/100\n",
      "24/24 [==============================] - 1s 62ms/step - loss: 0.0039\n",
      "Epoch 38/100\n",
      "24/24 [==============================] - 1s 62ms/step - loss: 0.0051\n",
      "Epoch 39/100\n",
      "24/24 [==============================] - 1s 61ms/step - loss: 0.0050\n",
      "Epoch 40/100\n",
      "24/24 [==============================] - 1s 61ms/step - loss: 0.0039\n",
      "Epoch 41/100\n",
      "24/24 [==============================] - 1s 62ms/step - loss: 0.0040\n",
      "Epoch 42/100\n",
      "24/24 [==============================] - 1s 62ms/step - loss: 0.0039\n",
      "Epoch 43/100\n",
      "24/24 [==============================] - 1s 61ms/step - loss: 0.0044\n",
      "Epoch 44/100\n",
      "24/24 [==============================] - 1s 61ms/step - loss: 0.0048\n",
      "Epoch 45/100\n",
      "24/24 [==============================] - 1s 60ms/step - loss: 0.0041\n",
      "Epoch 46/100\n",
      "24/24 [==============================] - 1s 62ms/step - loss: 0.0039\n",
      "Epoch 47/100\n",
      "24/24 [==============================] - 1s 62ms/step - loss: 0.0048\n",
      "Epoch 48/100\n",
      "24/24 [==============================] - 1s 61ms/step - loss: 0.0039\n",
      "Epoch 49/100\n",
      "24/24 [==============================] - 1s 61ms/step - loss: 0.0041\n",
      "Epoch 50/100\n",
      "24/24 [==============================] - 1s 63ms/step - loss: 0.0045\n",
      "Epoch 51/100\n",
      "24/24 [==============================] - 1s 61ms/step - loss: 0.0048\n",
      "Epoch 52/100\n",
      "24/24 [==============================] - 1s 62ms/step - loss: 0.0034\n",
      "Epoch 53/100\n",
      "24/24 [==============================] - 1s 61ms/step - loss: 0.0034\n",
      "Epoch 54/100\n",
      "24/24 [==============================] - 2s 63ms/step - loss: 0.0035\n",
      "Epoch 55/100\n",
      "24/24 [==============================] - 1s 61ms/step - loss: 0.0037\n",
      "Epoch 56/100\n",
      "24/24 [==============================] - 1s 60ms/step - loss: 0.0039\n",
      "Epoch 57/100\n",
      "24/24 [==============================] - 1s 62ms/step - loss: 0.0032\n",
      "Epoch 58/100\n",
      "24/24 [==============================] - 1s 61ms/step - loss: 0.0029\n",
      "Epoch 59/100\n",
      "24/24 [==============================] - 1s 61ms/step - loss: 0.0032\n",
      "Epoch 60/100\n",
      "24/24 [==============================] - 1s 60ms/step - loss: 0.0031\n",
      "Epoch 61/100\n",
      "24/24 [==============================] - 2s 63ms/step - loss: 0.0035\n",
      "Epoch 62/100\n",
      "24/24 [==============================] - 1s 61ms/step - loss: 0.0036\n",
      "Epoch 63/100\n",
      "24/24 [==============================] - 1s 62ms/step - loss: 0.0028\n",
      "Epoch 64/100\n",
      "24/24 [==============================] - 1s 62ms/step - loss: 0.0031\n",
      "Epoch 65/100\n",
      "24/24 [==============================] - 1s 60ms/step - loss: 0.0030\n",
      "Epoch 66/100\n",
      "24/24 [==============================] - 1s 61ms/step - loss: 0.0027\n",
      "Epoch 67/100\n",
      "24/24 [==============================] - 1s 60ms/step - loss: 0.0041\n",
      "Epoch 68/100\n",
      "24/24 [==============================] - 1s 61ms/step - loss: 0.0031\n",
      "Epoch 69/100\n",
      "24/24 [==============================] - 1s 61ms/step - loss: 0.0032\n",
      "Epoch 70/100\n",
      "24/24 [==============================] - 1s 61ms/step - loss: 0.0035\n",
      "Epoch 71/100\n",
      "24/24 [==============================] - 1s 61ms/step - loss: 0.0033\n",
      "Epoch 72/100\n",
      "24/24 [==============================] - 1s 61ms/step - loss: 0.0038\n",
      "Epoch 73/100\n",
      "24/24 [==============================] - 1s 61ms/step - loss: 0.0040\n",
      "Epoch 74/100\n",
      "24/24 [==============================] - 1s 61ms/step - loss: 0.0034\n",
      "Epoch 75/100\n",
      "24/24 [==============================] - 1s 61ms/step - loss: 0.0030\n",
      "Epoch 76/100\n",
      "24/24 [==============================] - 1s 61ms/step - loss: 0.0028\n",
      "Epoch 77/100\n",
      "24/24 [==============================] - 1s 61ms/step - loss: 0.0028\n",
      "Epoch 78/100\n",
      "24/24 [==============================] - 1s 61ms/step - loss: 0.0025\n",
      "Epoch 79/100\n",
      "24/24 [==============================] - 1s 62ms/step - loss: 0.0027\n",
      "Epoch 80/100\n",
      "24/24 [==============================] - 1s 62ms/step - loss: 0.0028\n",
      "Epoch 81/100\n",
      "24/24 [==============================] - 1s 61ms/step - loss: 0.0028\n",
      "Epoch 82/100\n",
      "24/24 [==============================] - 1s 62ms/step - loss: 0.0031\n",
      "Epoch 83/100\n",
      "24/24 [==============================] - 1s 61ms/step - loss: 0.0030\n",
      "Epoch 84/100\n",
      "24/24 [==============================] - 1s 61ms/step - loss: 0.0028\n",
      "Epoch 85/100\n",
      "24/24 [==============================] - 1s 60ms/step - loss: 0.0032\n",
      "Epoch 86/100\n",
      "24/24 [==============================] - 1s 61ms/step - loss: 0.0029\n",
      "Epoch 87/100\n",
      "24/24 [==============================] - 1s 61ms/step - loss: 0.0027\n",
      "Epoch 88/100\n",
      "24/24 [==============================] - 1s 61ms/step - loss: 0.0029\n",
      "Epoch 89/100\n",
      "24/24 [==============================] - 1s 61ms/step - loss: 0.0024\n",
      "Epoch 90/100\n",
      "24/24 [==============================] - 1s 61ms/step - loss: 0.0023\n",
      "Epoch 91/100\n",
      "24/24 [==============================] - 1s 61ms/step - loss: 0.0022\n",
      "Epoch 92/100\n",
      "24/24 [==============================] - 1s 60ms/step - loss: 0.0030\n",
      "Epoch 93/100\n",
      "24/24 [==============================] - 1s 61ms/step - loss: 0.0033\n",
      "Epoch 94/100\n",
      "24/24 [==============================] - 1s 62ms/step - loss: 0.0032\n",
      "Epoch 95/100\n",
      "24/24 [==============================] - 1s 61ms/step - loss: 0.0028\n"
     ]
    },
    {
     "name": "stdout",
     "output_type": "stream",
     "text": [
      "Epoch 96/100\n",
      "24/24 [==============================] - 1s 61ms/step - loss: 0.0028\n",
      "Epoch 97/100\n",
      "24/24 [==============================] - 1s 62ms/step - loss: 0.0033\n",
      "Epoch 98/100\n",
      "24/24 [==============================] - 1s 58ms/step - loss: 0.0031\n",
      "Epoch 99/100\n",
      "24/24 [==============================] - 1s 57ms/step - loss: 0.0022\n",
      "Epoch 100/100\n",
      "24/24 [==============================] - 1s 58ms/step - loss: 0.0029\n"
     ]
    },
    {
     "data": {
      "text/plain": [
       "<keras.src.callbacks.History at 0x275a8586210>"
      ]
     },
     "execution_count": 23,
     "metadata": {},
     "output_type": "execute_result"
    }
   ],
   "source": [
    "\n",
    "regressor.compile(optimizer = 'adam', loss = 'mean_squared_error')\n",
    "regressor.fit(x_train, y_train, epochs = 100, batch_size = 8)"
   ]
  },
  {
   "cell_type": "markdown",
   "id": "78a1231b",
   "metadata": {},
   "source": [
    "# Prediction Using LSTM & .iloc"
   ]
  },
  {
   "cell_type": "code",
   "execution_count": 24,
   "id": "2388c9ff",
   "metadata": {},
   "outputs": [],
   "source": [
    "dataset_test = pd.read_csv('GOOG.csv')\n",
    "actual_stock_price = dataset_test.iloc[:, 1:2].values"
   ]
  },
  {
   "cell_type": "code",
   "execution_count": 25,
   "id": "1b8b3f7d",
   "metadata": {},
   "outputs": [],
   "source": [
    "dataset_total = pd.concat((dataset_train['Open'], dataset_test['Open']), axis = 0)\n",
    "inputs = dataset_train[-81:]['Open'].values\n",
    "\n",
    "inputs = inputs.reshape(-1,1)\n",
    "inputs = scaler.transform(inputs)\n",
    "\n",
    "x_test = []\n",
    "for i in range(60,80):\n",
    "    x_test.append(inputs[i-60:i])\n",
    "x_test = np.array(x_test)\n",
    "x_test = np.reshape(x_test , (x_test.shape[0], x_test.shape[1],1))\n",
    "x_test = np.reshape(x_test , (x_test.shape[0], x_test.shape[1],1))"
   ]
  },
  {
   "cell_type": "code",
   "execution_count": 26,
   "id": "33b78ada",
   "metadata": {},
   "outputs": [
    {
     "name": "stdout",
     "output_type": "stream",
     "text": [
      "1/1 [==============================] - 2s 2s/step\n"
     ]
    }
   ],
   "source": [
    "predicted_stock_price = regressor.predict(x_test)\n",
    "predicted_stock_price = scaler.inverse_transform(predicted_stock_price)"
   ]
  },
  {
   "cell_type": "code",
   "execution_count": 27,
   "id": "0492a6ef",
   "metadata": {},
   "outputs": [
    {
     "data": {
      "text/html": [
       "<div>\n",
       "<style scoped>\n",
       "    .dataframe tbody tr th:only-of-type {\n",
       "        vertical-align: middle;\n",
       "    }\n",
       "\n",
       "    .dataframe tbody tr th {\n",
       "        vertical-align: top;\n",
       "    }\n",
       "\n",
       "    .dataframe thead th {\n",
       "        text-align: right;\n",
       "    }\n",
       "</style>\n",
       "<table border=\"1\" class=\"dataframe\">\n",
       "  <thead>\n",
       "    <tr style=\"text-align: right;\">\n",
       "      <th></th>\n",
       "      <th>0</th>\n",
       "      <th>0</th>\n",
       "    </tr>\n",
       "  </thead>\n",
       "  <tbody>\n",
       "    <tr>\n",
       "      <th>0</th>\n",
       "      <td>127.614021</td>\n",
       "      <td>129.089996</td>\n",
       "    </tr>\n",
       "    <tr>\n",
       "      <th>1</th>\n",
       "      <td>129.250061</td>\n",
       "      <td>130.220001</td>\n",
       "    </tr>\n",
       "    <tr>\n",
       "      <th>2</th>\n",
       "      <td>130.813736</td>\n",
       "      <td>131.979996</td>\n",
       "    </tr>\n",
       "    <tr>\n",
       "      <th>3</th>\n",
       "      <td>132.251083</td>\n",
       "      <td>132.360001</td>\n",
       "    </tr>\n",
       "    <tr>\n",
       "      <th>4</th>\n",
       "      <td>133.577942</td>\n",
       "      <td>133.360001</td>\n",
       "    </tr>\n",
       "    <tr>\n",
       "      <th>5</th>\n",
       "      <td>134.638535</td>\n",
       "      <td>131.529999</td>\n",
       "    </tr>\n",
       "    <tr>\n",
       "      <th>6</th>\n",
       "      <td>135.527954</td>\n",
       "      <td>133.360001</td>\n",
       "    </tr>\n",
       "    <tr>\n",
       "      <th>7</th>\n",
       "      <td>135.950119</td>\n",
       "      <td>135.649994</td>\n",
       "    </tr>\n",
       "    <tr>\n",
       "      <th>8</th>\n",
       "      <td>136.377777</td>\n",
       "      <td>136.639999</td>\n",
       "    </tr>\n",
       "    <tr>\n",
       "      <th>9</th>\n",
       "      <td>136.940155</td>\n",
       "      <td>136.960007</td>\n",
       "    </tr>\n",
       "    <tr>\n",
       "      <th>10</th>\n",
       "      <td>137.504684</td>\n",
       "      <td>137.820007</td>\n",
       "    </tr>\n",
       "    <tr>\n",
       "      <th>11</th>\n",
       "      <td>138.010361</td>\n",
       "      <td>135.500000</td>\n",
       "    </tr>\n",
       "    <tr>\n",
       "      <th>12</th>\n",
       "      <td>138.550842</td>\n",
       "      <td>137.940002</td>\n",
       "    </tr>\n",
       "    <tr>\n",
       "      <th>13</th>\n",
       "      <td>138.721588</td>\n",
       "      <td>139.100006</td>\n",
       "    </tr>\n",
       "    <tr>\n",
       "      <th>14</th>\n",
       "      <td>139.031738</td>\n",
       "      <td>139.539993</td>\n",
       "    </tr>\n",
       "    <tr>\n",
       "      <th>15</th>\n",
       "      <td>139.235947</td>\n",
       "      <td>137.570007</td>\n",
       "    </tr>\n",
       "    <tr>\n",
       "      <th>16</th>\n",
       "      <td>139.047806</td>\n",
       "      <td>137.630005</td>\n",
       "    </tr>\n",
       "    <tr>\n",
       "      <th>17</th>\n",
       "      <td>138.028091</td>\n",
       "      <td>138.985001</td>\n",
       "    </tr>\n",
       "    <tr>\n",
       "      <th>18</th>\n",
       "      <td>136.522766</td>\n",
       "      <td>136.399994</td>\n",
       "    </tr>\n",
       "    <tr>\n",
       "      <th>19</th>\n",
       "      <td>134.928986</td>\n",
       "      <td>133.320007</td>\n",
       "    </tr>\n",
       "  </tbody>\n",
       "</table>\n",
       "</div>"
      ],
      "text/plain": [
       "             0           0\n",
       "0   127.614021  129.089996\n",
       "1   129.250061  130.220001\n",
       "2   130.813736  131.979996\n",
       "3   132.251083  132.360001\n",
       "4   133.577942  133.360001\n",
       "5   134.638535  131.529999\n",
       "6   135.527954  133.360001\n",
       "7   135.950119  135.649994\n",
       "8   136.377777  136.639999\n",
       "9   136.940155  136.960007\n",
       "10  137.504684  137.820007\n",
       "11  138.010361  135.500000\n",
       "12  138.550842  137.940002\n",
       "13  138.721588  139.100006\n",
       "14  139.031738  139.539993\n",
       "15  139.235947  137.570007\n",
       "16  139.047806  137.630005\n",
       "17  138.028091  138.985001\n",
       "18  136.522766  136.399994\n",
       "19  134.928986  133.320007"
      ]
     },
     "execution_count": 27,
     "metadata": {},
     "output_type": "execute_result"
    }
   ],
   "source": [
    "pd.concat([pd.DataFrame(predicted_stock_price),pd.DataFrame(actual_stock_price).iloc[230:,:].reset_index(drop=True)]\n",
    "          ,axis=1)"
   ]
  },
  {
   "cell_type": "code",
   "execution_count": 29,
   "id": "c7fdedd0",
   "metadata": {},
   "outputs": [
    {
     "name": "stdout",
     "output_type": "stream",
     "text": [
      "Saved model to disk\n"
     ]
    }
   ],
   "source": [
    "# serialize model to JSON\n",
    "model_json = regressor.to_json()\n",
    "with open(\"model.json\", \"w\") as json_file:\n",
    "    json_file.write(model_json)\n",
    "# serialize weights to HDF5\n",
    "regressor.save_weights(\"model.h5\")\n",
    "print(\"Saved model to disk\")"
   ]
  },
  {
   "cell_type": "code",
   "execution_count": null,
   "id": "a61b30e7",
   "metadata": {},
   "outputs": [],
   "source": []
  },
  {
   "cell_type": "markdown",
   "id": "14309a00",
   "metadata": {},
   "source": [
    "# Actual Stock Price"
   ]
  },
  {
   "cell_type": "code",
   "execution_count": 172,
   "id": "e114f235",
   "metadata": {},
   "outputs": [
    {
     "data": {
      "text/plain": [
       "<matplotlib.legend.Legend at 0x19d88001d90>"
      ]
     },
     "execution_count": 172,
     "metadata": {},
     "output_type": "execute_result"
    },
    {
     "data": {
      "image/png": "[encoded data removed]",
      "text/plain": [
       "<Figure size 640x480 with 1 Axes>"
      ]
     },
     "metadata": {},
     "output_type": "display_data"
    }
   ],
   "source": [
    "plt.plot(actual_stock_price, color ='red', label = 'Actual Stock Price')\n",
    "#plt.plot(predicted_stock_price, color ='blue', label = 'Predicted Stock Price')\n",
    "plt.title('Actual Stock Price')\n",
    "plt.xlabel('Days')\n",
    "plt.ylabel('Stock Price')\n",
    "plt.legend()"
   ]
  },
  {
   "cell_type": "code",
   "execution_count": 180,
   "id": "641df854",
   "metadata": {},
   "outputs": [
    {
     "data": {
      "text/plain": [
       "array([ 1,  2,  3,  4,  5,  6,  7,  8,  9, 10, 11, 12, 13, 14, 15, 16, 17,\n",
       "       18, 19, 20, 21, 22, 23, 24, 25, 26, 27, 28, 29, 30, 31, 32, 33, 34,\n",
       "       35, 36, 37, 38, 39, 40, 41, 42, 43, 44, 45, 46, 47, 48, 49, 50, 51,\n",
       "       52, 53, 54, 55, 56, 57, 58, 59])"
      ]
     },
     "execution_count": 180,
     "metadata": {},
     "output_type": "execute_result"
    }
   ],
   "source": [
    "np.arange(1, 60)"
   ]
  },
  {
   "cell_type": "markdown",
   "id": "2125396c",
   "metadata": {},
   "source": [
    "# Predict Stock Price"
   ]
  },
  {
   "cell_type": "code",
   "execution_count": 185,
   "id": "c079d362",
   "metadata": {},
   "outputs": [
    {
     "data": {
      "image/png": "[encoded data removed]",
      "text/plain": [
       "<Figure size 640x480 with 1 Axes>"
      ]
     },
     "metadata": {},
     "output_type": "display_data"
    }
   ],
   "source": [
    "plt.plot(predicted_stock_price, color ='blue', label = 'Predicted Stock Price')\n",
    "plt.title('Predicted Stock Price for Google')\n",
    "plt.xlabel('Days')\n",
    "plt.ylabel('Stock Price')\n",
    "plt.legend()\n",
    "plt.show()"
   ]
  },
  {
   "cell_type": "code",
   "execution_count": null,
   "id": "5df46b83-59c1-457c-9a20-1151662c9f9a",
   "metadata": {},
   "outputs": [],
   "source": []
  }
 ],
 "metadata": {
  "kernelspec": {
   "display_name": "Python 3 (ipykernel)",
   "language": "python",
   "name": "python3"
  },
  "language_info": {
   "codemirror_mode": {
    "name": "ipython",
    "version": 3
   },
   "file_extension": ".py",
   "mimetype": "text/x-python",
   "name": "python",
   "nbconvert_exporter": "python",
   "pygments_lexer": "ipython3",
   "version": "3.11.4"
  }
 },
 "nbformat": 4,
 "nbformat_minor": 5
}
